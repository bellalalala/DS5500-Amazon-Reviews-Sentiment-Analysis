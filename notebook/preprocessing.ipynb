{
 "cells": [
  {
   "cell_type": "markdown",
   "metadata": {},
   "source": [
    "# Data pre-processing"
   ]
  },
  {
   "cell_type": "markdown",
   "metadata": {},
   "source": [
    "After we get the original data, we need to do some pre-processing, e.g. convert time into datetime format, change column name, filter the time range we want, transform the categorical column and boolean column."
   ]
  },
  {
   "cell_type": "code",
   "execution_count": 25,
   "metadata": {},
   "outputs": [],
   "source": [
    "import json\n",
    "import os\n",
    "import pandas as pd\n",
    "from datetime import datetime\n",
    "import matplotlib.pyplot as plt\n",
    "\n",
    "def getFileName(filePath):\n",
    "    return os.listdir(filePath)\n",
    "\n",
    "def readJson(filePath):\n",
    "    print(\"Start Reading file ...\", filePath)\n",
    "    reviews = {}\n",
    "    i = 0 \n",
    "    for line in open(filePath, 'r'):\n",
    "        reviews[i] = json.loads(line)\n",
    "        i += 1\n",
    "    return pd.DataFrame.from_dict(reviews, orient='index')"
   ]
  },
  {
   "cell_type": "code",
   "execution_count": 22,
   "metadata": {},
   "outputs": [],
   "source": [
    "def convertTime(string):\n",
    "    m, d, y = string.split(' ')\n",
    "    d = d[:-1]\n",
    "    time_string = '{}/{}/{}'.format(m, d, y)\n",
    "    return datetime.strptime(time_string, '%m/%d/%Y')\n",
    "\n",
    "def dataClean(data):\n",
    "    data[\"reviewTime\"] = data[[\"reviewTime\"]].applymap(convertTime)\n",
    "    data = data[data[\"reviewTime\"] >= '2016-01-01']\n",
    "    data = data[['overall', 'verified', 'reviewTime', 'reviewerID', 'asin', 'reviewText', 'summary', 'image']].rename(columns={\"asin\": \"productID\"})\n",
    "    data['image'] = ~ data['image'].isna()\n",
    "    return data\n",
    "\n",
    "def saveJson(data, file_name):\n",
    "    file_name = 'data/' + file_name\n",
    "    \n",
    "    # Store the datetime as string time in order to store in json\n",
    "    data[\"reviewTime\"] = data.reviewTime.dt.strftime('%Y-%m-%d')\n",
    "    data.to_json(file_name, orient='records')\n",
    "    print(\"Saving..., file name:\", file_name)"
   ]
  },
  {
   "cell_type": "code",
   "execution_count": 27,
   "metadata": {},
   "outputs": [
    {
     "name": "stdout",
     "output_type": "stream",
     "text": [
      "Start Reading file ... original/Video_Games_5.json\n",
      "Saving..., file name: data/Video_Games.json\n",
      "Start Reading file ... original/Toys_and_Games_5.json\n",
      "Saving..., file name: data/Toys_and_Games.json\n",
      "Start Reading file ... original/Luxury_Beauty_5.json\n",
      "Saving..., file name: data/Luxury_Beauty.json\n",
      "Start Reading file ... original/Industrial_and_Scientific_5.json\n",
      "Saving..., file name: data/Industrial_and_Scientific.json\n",
      "Start Reading file ... original/Software_5.json\n",
      "Saving..., file name: data/Software.json\n",
      "Start Reading file ... original/Patio_Lawn_and_Garden_5.json\n",
      "Saving..., file name: data/Patio_Lawn_and_Garden.json\n",
      "Start Reading file ... original/Pet_Supplies_5.json\n",
      "Saving..., file name: data/Pet_Supplies.json\n",
      "Start Reading file ... original/Musical_Instruments_5.json\n",
      "Saving..., file name: data/Musical_Instruments.json\n",
      "Start Reading file ... original/Office_Products_5.json\n",
      "Saving..., file name: data/Office_Products.json\n",
      "Start Reading file ... original/Prime_Pantry_5.json\n",
      "Saving..., file name: data/Prime_Pantry.json\n",
      "Start Reading file ... original/Sports_and_Outdoors_5.json\n",
      "Saving..., file name: data/Sports_and_Outdoors.json\n",
      "Start Reading file ... original/Movies_and_TV_5.json\n",
      "Saving..., file name: data/Movies_and_TV.json\n",
      "Start Reading file ... original/Tools_and_Home_Improvement_5.json\n",
      "Saving..., file name: data/Tools_and_Home_Improvement.json\n",
      "Start Reading file ... original/Kindle_Store_5.json\n",
      "Saving..., file name: data/Kindle_Store.json\n"
     ]
    }
   ],
   "source": [
    "filePath = 'original'\n",
    "for file_name in os.listdir(filePath):\n",
    "    if \"json\" != file_name[-4:]:\n",
    "        continue\n",
    "    data = readJson(filePath + \"/\" + file_name)\n",
    "    clean_data = dataClean(data)\n",
    "    department = file_name[:-7]\n",
    "    clean_data[\"department\"] = department\n",
    "    saveJson(clean_data, department + \".json\")"
   ]
  },
  {
   "cell_type": "code",
   "execution_count": 17,
   "metadata": {},
   "outputs": [],
   "source": []
  }
 ],
 "metadata": {
  "kernelspec": {
   "display_name": "Python 3",
   "language": "python",
   "name": "python3"
  },
  "language_info": {
   "codemirror_mode": {
    "name": "ipython",
    "version": 3
   },
   "file_extension": ".py",
   "mimetype": "text/x-python",
   "name": "python",
   "nbconvert_exporter": "python",
   "pygments_lexer": "ipython3",
   "version": "3.6.9"
  }
 },
 "nbformat": 4,
 "nbformat_minor": 2
}
