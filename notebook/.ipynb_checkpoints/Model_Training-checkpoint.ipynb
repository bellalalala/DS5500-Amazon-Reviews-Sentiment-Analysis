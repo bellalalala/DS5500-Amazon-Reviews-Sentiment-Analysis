{
 "cells": [
  {
   "cell_type": "markdown",
   "metadata": {},
   "source": [
    "# Model Training\n",
    "This notebook is used to do model training, here we use Logistic regression as our baseline model and fasttest model as our underlying model for user interface. So this notebook will first run both model, and record the running time for each step for further comparison, and then save the fasttext model as the pre-trained model in our UI."
   ]
  },
  {
   "cell_type": "code",
   "execution_count": 1,
   "metadata": {},
   "outputs": [],
   "source": [
    "# Import the necessary packages\n",
    "import json\n",
    "import os\n",
    "import pandas as pd\n",
    "import numpy as np\n",
    "from datetime import datetime\n",
    "import matplotlib.pyplot as plt\n",
    "import fastText\n",
    "import bz2\n",
    "import csv\n",
    "import os\n",
    "import re\n",
    "import time\n",
    "import nltk\n",
    "from nltk.corpus import stopwords"
   ]
  },
  {
   "cell_type": "markdown",
   "metadata": {},
   "source": [
    "## Data preprocessing function"
   ]
  },
  {
   "cell_type": "code",
   "execution_count": 2,
   "metadata": {},
   "outputs": [],
   "source": [
    "def removePuncLower(s):\n",
    "    \"\"\" Remove punctuation and lower the letter\"\"\"\n",
    "    re_tok = re.compile(r'[^\\w]+')\n",
    "    s = re_tok.sub(' ', s).lower()\n",
    "    return s"
   ]
  },
  {
   "cell_type": "code",
   "execution_count": 3,
   "metadata": {},
   "outputs": [],
   "source": [
    "# Calculate Evaluation metrics\n",
    "from sklearn.metrics import accuracy_score\n",
    "from sklearn.metrics import roc_auc_score\n",
    "from sklearn.metrics import confusion_matrix\n",
    "import seaborn as sns\n",
    "\n",
    "def calculate_metric(true, pred):\n",
    "    score = roc_auc_score(true, pred)\n",
    "    accuracy = accuracy_score(true, pred)\n",
    "    print(\"roc_auc_score:\", score)\n",
    "    print(\"accuracy:\", accuracy)\n",
    "    return (score, accuracy)\n",
    "\n",
    "def plot_confusion_matrix(true, pred):\n",
    "    conf_matrix = confusion_matrix(true, pred)\n",
    "    ax= plt.subplot()\n",
    "    sns.heatmap(conf_matrix, annot=True, cmap=\"Blues\", fmt=\"g\", ax=ax)\n",
    "    ax.set_xlabel('Predicted labels')\n",
    "    ax.set_ylabel('True labels')\n",
    "    ax.set_title('Confusion Matrix')\n",
    "    ax.xaxis.set_ticklabels(['Negative', 'Positive'])\n",
    "    ax.yaxis.set_ticklabels(['Negative', 'Positive'])\n",
    "    ax.set_ylim([0, 2])"
   ]
  },
  {
   "cell_type": "markdown",
   "metadata": {},
   "source": [
    "## Load data"
   ]
  },
  {
   "cell_type": "code",
   "execution_count": 4,
   "metadata": {},
   "outputs": [
    {
     "name": "stdout",
     "output_type": "stream",
     "text": [
      "3600000\n"
     ]
    }
   ],
   "source": [
    "# Load the training data, which is already processed and convert into the format for fasttext model\n",
    "data = bz2.BZ2File(\"input/train.ft.txt.bz2\")\n",
    "data = data.readlines()\n",
    "data = [x.decode('utf-8') for x in data]\n",
    "print(len(data)) "
   ]
  },
  {
   "cell_type": "code",
   "execution_count": 5,
   "metadata": {},
   "outputs": [
    {
     "name": "stdout",
     "output_type": "stream",
     "text": [
      "400000 number of records in the test set\n"
     ]
    }
   ],
   "source": [
    "# Load the test data \n",
    "test = bz2.BZ2File(\"input/test.ft.txt.bz2\")\n",
    "test = test.readlines()\n",
    "test = [x.decode('utf-8') for x in test]\n",
    "print(len(test), 'number of records in the test set') \n",
    "\n",
    "# To run the predict function, we need to remove the __label__1 and __label__2 from the testset.  \n",
    "test_data = [w.replace('__label__2 ', '') for w in test]\n",
    "test_data = [w.replace('__label__1 ', '') for w in test_data]\n",
    "test_data = [w.replace('\\n', '') for w in test_data]"
   ]
  },
  {
   "cell_type": "code",
   "execution_count": 6,
   "metadata": {
    "scrolled": true
   },
   "outputs": [
    {
     "name": "stdout",
     "output_type": "stream",
     "text": [
      "['__label__2 Stuning even for the non-gamer: This sound track was beautiful! It paints the senery in your mind so well I would recomend it even to people who hate vid. game music! I have played the game Chrono Cross but out of all of the games I have ever played it has the best music! It backs away from crude keyboarding and takes a fresher step with grate guitars and soulful orchestras. It would impress anyone who cares to listen! ^_^\\n', \"__label__2 The best soundtrack ever to anything.: I'm reading a lot of reviews saying that this is the best 'game soundtrack' and I figured that I'd write a review to disagree a bit. This in my opinino is Yasunori Mitsuda's ultimate masterpiece. The music is timeless and I'm been listening to it for years now and its beauty simply refuses to fade.The price tag on this is pretty staggering I must say, but if you are going to buy any cd for this much money, this is the only one that I feel would be worth every penny.\\n\", '__label__2 Amazing!: This soundtrack is my favorite music of all time, hands down. The intense sadness of \"Prisoners of Fate\" (which means all the more if you\\'ve played the game) and the hope in \"A Distant Promise\" and \"Girl who Stole the Star\" have been an important inspiration to me personally throughout my teen years. The higher energy tracks like \"Chrono Cross ~ Time\\'s Scar~\", \"Time of the Dreamwatch\", and \"Chronomantique\" (indefinably remeniscent of Chrono Trigger) are all absolutely superb as well.This soundtrack is amazing music, probably the best of this composer\\'s work (I haven\\'t heard the Xenogears soundtrack, so I can\\'t say for sure), and even if you\\'ve never played the game, it would be worth twice the price to buy it.I wish I could give it 6 stars.\\n', \"__label__2 Excellent Soundtrack: I truly like this soundtrack and I enjoy video game music. I have played this game and most of the music on here I enjoy and it's truly relaxing and peaceful.On disk one. my favorites are Scars Of Time, Between Life and Death, Forest Of Illusion, Fortress of Ancient Dragons, Lost Fragment, and Drowned Valley.Disk Two: The Draggons, Galdorb - Home, Chronomantique, Prisoners of Fate, Gale, and my girlfriend likes ZelbessDisk Three: The best of the three. Garden Of God, Chronopolis, Fates, Jellyfish sea, Burning Orphange, Dragon's Prayer, Tower Of Stars, Dragon God, and Radical Dreamers - Unstealable Jewel.Overall, this is a excellent soundtrack and should be brought by those that like video game music.Xander Cross\\n\", \"__label__2 Remember, Pull Your Jaw Off The Floor After Hearing it: If you've played the game, you know how divine the music is! Every single song tells a story of the game, it's that good! The greatest songs are without a doubt, Chrono Cross: Time's Scar, Magical Dreamers: The Wind, The Stars, and the Sea and Radical Dreamers: Unstolen Jewel. (Translation varies) This music is perfect if you ask me, the best it can be. Yasunori Mitsuda just poured his heart on and wrote it down on paper.\\n\"]\n"
     ]
    }
   ],
   "source": [
    "# Here is the example of one record in training data, \n",
    "# start with label, and the text of reviews is separated from labels by space.\n",
    "print(data[:5])"
   ]
  },
  {
   "cell_type": "markdown",
   "metadata": {},
   "source": [
    "## Baseline: Logistic regression"
   ]
  },
  {
   "cell_type": "code",
   "execution_count": 7,
   "metadata": {},
   "outputs": [],
   "source": [
    "# Import stopwords and store in numpy array which will be used to calculate intersection more efficiently.\n",
    "stopwords_np = np.array(stopwords.words(\"english\"))"
   ]
  },
  {
   "cell_type": "code",
   "execution_count": 8,
   "metadata": {},
   "outputs": [
    {
     "name": "stdout",
     "output_type": "stream",
     "text": [
      "Pre-process complete, time taken: 580.7756397724152\n"
     ]
    }
   ],
   "source": [
    "# Process data, split X and label\n",
    "start = time.time()\n",
    "X_train, y_train = [], []\n",
    "for line in data:\n",
    "    \n",
    "    # Remove punctuation and lowercase the text\n",
    "    new_line = np.array(removePuncLower(line[11:-1]).split(\" \"))\n",
    "    \n",
    "    # Remove stopwords\n",
    "    remove_stopwords_line = np.setdiff1d(new_line, stopwords_np)\n",
    "    X_train.append(\" \".join(list(remove_stopwords_line)))\n",
    "    if line[9] == \"2\":\n",
    "        y_train.append(1)\n",
    "    else:\n",
    "        y_train.append(0)\n",
    "end = time.time()\n",
    "\n",
    "# Record the running time of processing step\n",
    "print(\"Pre-process complete, time taken:\", end - start)"
   ]
  },
  {
   "cell_type": "code",
   "execution_count": 9,
   "metadata": {},
   "outputs": [],
   "source": [
    "# Pre-process the test data, similar to train data.\n",
    "X_test, y_test = [], []\n",
    "for i, line in enumerate(test_data):\n",
    "    new_line = np.array(removePuncLower(line).split(\" \"))\n",
    "    remove_stopwords_line = np.setdiff1d(new_line, stopwords_np)\n",
    "    X_test.append(\" \".join(list(remove_stopwords_line)))\n",
    "    label = 0 if test[i].split(' ')[0] == '__label__1' else 1\n",
    "    y_test.append(label)"
   ]
  },
  {
   "cell_type": "code",
   "execution_count": 10,
   "metadata": {},
   "outputs": [
    {
     "name": "stdout",
     "output_type": "stream",
     "text": [
      "Tf-idf part complete, time taken: 262.6588740348816\n"
     ]
    }
   ],
   "source": [
    "# Baseline model -- logistic regression\n",
    "# Using tf-idf to vectorize the text\n",
    "from sklearn.feature_extraction.text import TfidfVectorizer\n",
    "start = time.time()\n",
    "tvec = TfidfVectorizer()\n",
    "\n",
    "# Fit the training data on the model\n",
    "tvec.fit(X_train)\n",
    "\n",
    "# Transform training data into sparse matrix\n",
    "X_train_vec = tvec.transform(X_train)\n",
    "end = time.time()\n",
    "print(\"Tf-idf part complete, time taken:\", end - start)"
   ]
  },
  {
   "cell_type": "code",
   "execution_count": 11,
   "metadata": {},
   "outputs": [],
   "source": [
    "# get tf-idf vectorizer for test set\n",
    "X_test_vec = tvec.transform(X_test)"
   ]
  },
  {
   "cell_type": "code",
   "execution_count": 12,
   "metadata": {},
   "outputs": [
    {
     "name": "stdout",
     "output_type": "stream",
     "text": [
      "Model complete, time taken: 142.77339506149292\n"
     ]
    },
    {
     "name": "stderr",
     "output_type": "stream",
     "text": [
      "/Users/macbookpro/anaconda3/lib/python3.6/site-packages/sklearn/linear_model/_logistic.py:764: ConvergenceWarning: lbfgs failed to converge (status=1):\n",
      "STOP: TOTAL NO. of ITERATIONS REACHED LIMIT.\n",
      "\n",
      "Increase the number of iterations (max_iter) or scale the data as shown in:\n",
      "    https://scikit-learn.org/stable/modules/preprocessing.html\n",
      "Please also refer to the documentation for alternative solver options:\n",
      "    https://scikit-learn.org/stable/modules/linear_model.html#logistic-regression\n",
      "  extra_warning_msg=_LOGISTIC_SOLVER_CONVERGENCE_MSG)\n"
     ]
    }
   ],
   "source": [
    "# Run logistic regression model\n",
    "from sklearn.linear_model import LogisticRegression\n",
    "\n",
    "# Train the model\n",
    "start = time.time()\n",
    "logistic_model = LogisticRegression(random_state=1)\n",
    "logistic_model.fit(X_train_vec, y_train)\n",
    "end = time.time()\n",
    "print(\"Model complete, time taken:\", end - start)"
   ]
  },
  {
   "cell_type": "code",
   "execution_count": 13,
   "metadata": {},
   "outputs": [],
   "source": [
    "# Test the model\n",
    "pred = logistic_model.predict(X_test_vec)"
   ]
  },
  {
   "cell_type": "code",
   "execution_count": 14,
   "metadata": {},
   "outputs": [
    {
     "name": "stdout",
     "output_type": "stream",
     "text": [
      "roc_auc_score: 0.9003225\n",
      "accuracy: 0.9003225\n"
     ]
    },
    {
     "data": {
      "image/png": "[encoded data removed]",
      "text/plain": [
       "<Figure size 432x288 with 2 Axes>"
      ]
     },
     "metadata": {
      "needs_background": "light"
     },
     "output_type": "display_data"
    }
   ],
   "source": [
    "# Calculate evaluation metrics and plot confusion matrix\n",
    "calculate_metric(y_test, pred)\n",
    "plot_confusion_matrix(y_test, pred)"
   ]
  },
  {
   "cell_type": "markdown",
   "metadata": {},
   "source": [
    "## FastText model"
   ]
  },
  {
   "cell_type": "code",
   "execution_count": 86,
   "metadata": {},
   "outputs": [
    {
     "name": "stdout",
     "output_type": "stream",
     "text": [
      "Model complete, time taken: 192.65234565734863\n"
     ]
    }
   ],
   "source": [
    "# Data Prep, save to txt file\n",
    "# train = pd.DataFrame(data, columns=[\"text\"])\n",
    "# train.to_csv(\"train.txt\", index=False, sep=' ', header=False, quoting=csv.QUOTE_NONE, quotechar=\"\", escapechar=\" \")\n",
    "\n",
    "# Training the model\n",
    "start = time.time()\n",
    "model = fastText.train_supervised('train.txt', epoch = 10)\n",
    "end = time.time()\n",
    "print(\"Model complete, time taken:\", end - start)"
   ]
  },
  {
   "cell_type": "code",
   "execution_count": 7,
   "metadata": {},
   "outputs": [],
   "source": [
    "# Save the model \n",
    "model_path = \"../dashboard/dashboard_data/\"\n",
    "# model.save_model(os.path.join(model_path, \"model.bin\"))\n",
    "\n",
    "# Load the model\n",
    "model = fastText.load_model(os.path.join(model_path, \"model.bin\"))\n",
    "\n",
    "# Use the predict function \n",
    "pred = model.predict(test_data)\n",
    "true_labels = X_test\n",
    "pred_labels = [0 if x == ['__label__1'] else 1 for x in pred[0]]"
   ]
  },
  {
   "cell_type": "code",
   "execution_count": 8,
   "metadata": {},
   "outputs": [
    {
     "name": "stdout",
     "output_type": "stream",
     "text": [
      "roc_auc_score: 0.9173600000000001\n",
      "accuracy: 0.91736\n"
     ]
    },
    {
     "data": {
      "image/png": "[encoded data removed]",
      "text/plain": [
       "<Figure size 432x288 with 2 Axes>"
      ]
     },
     "metadata": {
      "needs_background": "light"
     },
     "output_type": "display_data"
    }
   ],
   "source": [
    "# Calculate evaluation metrics and plot confusion matrix\n",
    "calculate_metric(true_labels, pred_labels)\n",
    "plot_confusion_matrix(true_labels, pred_labels)"
   ]
  },
  {
   "cell_type": "code",
   "execution_count": 89,
   "metadata": {},
   "outputs": [
    {
     "name": "stdout",
     "output_type": "stream",
     "text": [
      "epochs no: 5, learning rage: 0.01\n",
      "roc_auc_score: 0.9145449999999998\n",
      "accuracy: 0.914545\n",
      "epochs no: 5, learning rage: 0.1\n",
      "roc_auc_score: 0.916275\n",
      "accuracy: 0.916275\n",
      "epochs no: 5, learning rage: 1\n",
      "roc_auc_score: 0.9162275\n",
      "accuracy: 0.9162275\n",
      "epochs no: 15, learning rage: 0.01\n",
      "roc_auc_score: 0.9178949999999999\n",
      "accuracy: 0.917895\n",
      "epochs no: 15, learning rage: 0.1\n",
      "roc_auc_score: 0.9168624999999999\n",
      "accuracy: 0.9168625\n",
      "epochs no: 15, learning rage: 1\n",
      "roc_auc_score: 0.9165399999999999\n",
      "accuracy: 0.91654\n",
      "epochs no: 25, learning rage: 0.01\n",
      "roc_auc_score: 0.9177649999999999\n",
      "accuracy: 0.917765\n",
      "epochs no: 25, learning rage: 0.1\n",
      "roc_auc_score: 0.914945\n",
      "accuracy: 0.914945\n",
      "epochs no: 25, learning rage: 1\n",
      "roc_auc_score: 0.9141475\n",
      "accuracy: 0.9141475\n"
     ]
    }
   ],
   "source": [
    "# Grid Search for hyper-parameter tuning\n",
    "epochs_list = [5, 15, 25]\n",
    "lr_list = [0.01, 0.1, 1]\n",
    "model_list = {}\n",
    "for epoch_no in epochs_list:\n",
    "    for lr in lr_list:\n",
    "        print(\"epochs no: {}, learning rage: {}\".format(epoch_no, lr))\n",
    "        start = time.time()\n",
    "        model = fastText.train_supervised('train.txt', epoch = epoch_no, lr=lr)\n",
    "        end = time.time()\n",
    "        print(\"Model complete, time taken:\", end - start)\n",
    "\n",
    "        # Use the predict function \n",
    "        pred = model.predict(test_data)\n",
    "        true_labels = [0 if x.split(' ')[0] == '__label__1' else 1 for x in test]\n",
    "        pred_labels = [0 if x == ['__label__1'] else 1 for x in pred[0]]\n",
    "        score, accuracy = calculate_metric(true_labels, pred_labels)\n",
    "        model_list[(epoch_no, lr)] = (model, score, accuracy)\n",
    "        print(\"=============================================\")"
   ]
  },
  {
   "cell_type": "markdown",
   "metadata": {},
   "source": [
    "After grid search, we decide to use epcohs=15, learning rate=0.01 as our final value of hyper-parameter."
   ]
  },
  {
   "cell_type": "code",
   "execution_count": null,
   "metadata": {},
   "outputs": [],
   "source": []
  }
 ],
 "metadata": {
  "kernelspec": {
   "display_name": "Python 3",
   "language": "python",
   "name": "python3"
  },
  "language_info": {
   "codemirror_mode": {
    "name": "ipython",
    "version": 3
   },
   "file_extension": ".py",
   "mimetype": "text/x-python",
   "name": "python",
   "nbconvert_exporter": "python",
   "pygments_lexer": "ipython3",
   "version": "3.6.9"
  }
 },
 "nbformat": 4,
 "nbformat_minor": 2
}
